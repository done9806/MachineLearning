{
 "cells": [
  {
   "cell_type": "markdown",
   "metadata": {},
   "source": [
    "#### Used dataset: Social Network Ads https://www.kaggle.com/datasets/rakeshrau/social-network-ads\n",
    "\n",
    "#### Used packages:\n",
    "##### Package Versions: pandas: 2.0.2, numpy 1.25.0, matplotlib 3.7.1, missingno 0.5.2, seaborn 0.12.2\n",
    "##### Python Version: 3.11.4"
   ]
  },
  {
   "cell_type": "markdown",
   "metadata": {},
   "source": [
    "## TASK 1:\n",
    "\n",
    "#### Business understanding:\n",
    "Suppose we are an e-commerce company that runs advertisements to target potential customers. We want to determine if there is a correlation between gender, age, estimated salary, and the users' purchasing behavior due to our ads.\n",
    "\n",
    "Our objective is to maximize the effectiveness of our ads by optimizing our budget and gaining a better understanding of our target audience. On the basis of existing data, we hope to be able to draw conclusions and thus determine whether a customer buys through our advertising or not on the basis of the characteristics mentioned.\n",
    "\n",
    "#### Dataset and attribute explanation:\n",
    "The dataset shows whether a person purchased a product because of social media advertisement based on gender, age and estimated salary.\n",
    "\n",
    "##### The dataset consists of five columns:\n",
    "##### UserID            = ID of each user\n",
    "##### Gender            = Gender of each user\n",
    "##### Age               = Age of each user\n",
    "##### EstimatedSalary   = Estimated salary of each user\n",
    "##### Purchased         = Shows if the user has purchased because of the AD (1 = Purchased; 0 = Not purchased)\n",
    "\n",
    "##### -> 'Gender', 'Age' and 'EstimatedSalary' represent the independent variables.\n",
    "##### -> 'Purchased' represents the dependent variable.\n",
    "##### -> 'User ID' is not required, as the column has no significance.\n",
    "\n",
    "##### Why I use the SVM-Algorithm:\n",
    "The objective of the SVM algorithm is to construct an optimal hyperplane that effectively separates classes within an n-dimensional space. By achieving this, we can accurately classify new data points into their respective categories in the future. The hyperplane represents the optimal decision boundary.\n",
    "\n",
    "Regarding the given dataset I want to classify if a person purchases or not based on the given attributes by using SVM. So based on these attributes we can predict whether a customer purchases or not.\n"
   ]
  },
  {
   "cell_type": "markdown",
   "metadata": {},
   "source": [
    "### 1. Step: Importing libraries and dataset"
   ]
  },
  {
   "cell_type": "code",
   "execution_count": 1,
   "metadata": {},
   "outputs": [],
   "source": [
    "#Importing the libraries\n",
    "\n",
    "import numpy as np #Linear algebra\n",
    "import pandas as pd #Data processing, CSV file I/O (e.g. pd.read_csv)\n",
    "import matplotlib.pyplot as plt #For plotting\n",
    "import missingno as msno #For missing values analysis\n",
    "import seaborn as sns #For plotting\n",
    "from matplotlib.colors import ListedColormap #For plotting\n",
    "from sklearn.model_selection import train_test_split #For splitting data into train/test\n",
    "from sklearn.preprocessing import StandardScaler #For feature scaling\n",
    "from matplotlib.colors import ListedColormap #For plotting \n",
    "from sklearn.svm import SVC #For SVM classification, imported from sklearn library\n",
    "from sklearn.metrics import confusion_matrix #For confusion matrix \n",
    "#from imblearn.over_sampling import SMOTE #For oversampling data\n",
    "from sklearn.metrics import classification_report #For classification report\n",
    "from sklearn.model_selection import GridSearchCV #For grid search cross validation"
   ]
  },
  {
   "cell_type": "markdown",
   "metadata": {},
   "source": [
    "### 2. Step: Import dataset and first examination"
   ]
  },
  {
   "cell_type": "code",
   "execution_count": 2,
   "metadata": {},
   "outputs": [],
   "source": [
    "df = pd.read_csv('Social_Network_Ads.csv') #Loading the dataset\n",
    "# Dataset can be found at: https://www.kaggle.com/datasets/rakeshrau/social-network-ads"
   ]
  },
  {
   "cell_type": "code",
   "execution_count": 3,
   "metadata": {},
   "outputs": [
    {
     "data": {
      "text/html": [
       "<div>\n",
       "<style scoped>\n",
       "    .dataframe tbody tr th:only-of-type {\n",
       "        vertical-align: middle;\n",
       "    }\n",
       "\n",
       "    .dataframe tbody tr th {\n",
       "        vertical-align: top;\n",
       "    }\n",
       "\n",
       "    .dataframe thead th {\n",
       "        text-align: right;\n",
       "    }\n",
       "</style>\n",
       "<table border=\"1\" class=\"dataframe\">\n",
       "  <thead>\n",
       "    <tr style=\"text-align: right;\">\n",
       "      <th></th>\n",
       "      <th>User ID</th>\n",
       "      <th>Gender</th>\n",
       "      <th>Age</th>\n",
       "      <th>EstimatedSalary</th>\n",
       "      <th>Purchased</th>\n",
       "    </tr>\n",
       "  </thead>\n",
       "  <tbody>\n",
       "    <tr>\n",
       "      <th>0</th>\n",
       "      <td>15624510</td>\n",
       "      <td>Male</td>\n",
       "      <td>19</td>\n",
       "      <td>19000</td>\n",
       "      <td>0</td>\n",
       "    </tr>\n",
       "    <tr>\n",
       "      <th>1</th>\n",
       "      <td>15810944</td>\n",
       "      <td>Male</td>\n",
       "      <td>35</td>\n",
       "      <td>20000</td>\n",
       "      <td>0</td>\n",
       "    </tr>\n",
       "    <tr>\n",
       "      <th>2</th>\n",
       "      <td>15668575</td>\n",
       "      <td>Female</td>\n",
       "      <td>26</td>\n",
       "      <td>43000</td>\n",
       "      <td>0</td>\n",
       "    </tr>\n",
       "    <tr>\n",
       "      <th>3</th>\n",
       "      <td>15603246</td>\n",
       "      <td>Female</td>\n",
       "      <td>27</td>\n",
       "      <td>57000</td>\n",
       "      <td>0</td>\n",
       "    </tr>\n",
       "    <tr>\n",
       "      <th>4</th>\n",
       "      <td>15804002</td>\n",
       "      <td>Male</td>\n",
       "      <td>19</td>\n",
       "      <td>76000</td>\n",
       "      <td>0</td>\n",
       "    </tr>\n",
       "  </tbody>\n",
       "</table>\n",
       "</div>"
      ],
      "text/plain": [
       "    User ID  Gender  Age  EstimatedSalary  Purchased\n",
       "0  15624510    Male   19            19000          0\n",
       "1  15810944    Male   35            20000          0\n",
       "2  15668575  Female   26            43000          0\n",
       "3  15603246  Female   27            57000          0\n",
       "4  15804002    Male   19            76000          0"
      ]
     },
     "execution_count": 3,
     "metadata": {},
     "output_type": "execute_result"
    }
   ],
   "source": [
    "df.head() #Checking the first 5 rows of the dataset to get an idea of the dataset"
   ]
  },
  {
   "cell_type": "code",
   "execution_count": 4,
   "metadata": {},
   "outputs": [
    {
     "data": {
      "text/html": [
       "<div>\n",
       "<style scoped>\n",
       "    .dataframe tbody tr th:only-of-type {\n",
       "        vertical-align: middle;\n",
       "    }\n",
       "\n",
       "    .dataframe tbody tr th {\n",
       "        vertical-align: top;\n",
       "    }\n",
       "\n",
       "    .dataframe thead th {\n",
       "        text-align: right;\n",
       "    }\n",
       "</style>\n",
       "<table border=\"1\" class=\"dataframe\">\n",
       "  <thead>\n",
       "    <tr style=\"text-align: right;\">\n",
       "      <th></th>\n",
       "      <th>User ID</th>\n",
       "      <th>Gender</th>\n",
       "      <th>Age</th>\n",
       "      <th>EstimatedSalary</th>\n",
       "      <th>Purchased</th>\n",
       "    </tr>\n",
       "  </thead>\n",
       "  <tbody>\n",
       "    <tr>\n",
       "      <th>395</th>\n",
       "      <td>15691863</td>\n",
       "      <td>Female</td>\n",
       "      <td>46</td>\n",
       "      <td>41000</td>\n",
       "      <td>1</td>\n",
       "    </tr>\n",
       "    <tr>\n",
       "      <th>396</th>\n",
       "      <td>15706071</td>\n",
       "      <td>Male</td>\n",
       "      <td>51</td>\n",
       "      <td>23000</td>\n",
       "      <td>1</td>\n",
       "    </tr>\n",
       "    <tr>\n",
       "      <th>397</th>\n",
       "      <td>15654296</td>\n",
       "      <td>Female</td>\n",
       "      <td>50</td>\n",
       "      <td>20000</td>\n",
       "      <td>1</td>\n",
       "    </tr>\n",
       "    <tr>\n",
       "      <th>398</th>\n",
       "      <td>15755018</td>\n",
       "      <td>Male</td>\n",
       "      <td>36</td>\n",
       "      <td>33000</td>\n",
       "      <td>0</td>\n",
       "    </tr>\n",
       "    <tr>\n",
       "      <th>399</th>\n",
       "      <td>15594041</td>\n",
       "      <td>Female</td>\n",
       "      <td>49</td>\n",
       "      <td>36000</td>\n",
       "      <td>1</td>\n",
       "    </tr>\n",
       "  </tbody>\n",
       "</table>\n",
       "</div>"
      ],
      "text/plain": [
       "      User ID  Gender  Age  EstimatedSalary  Purchased\n",
       "395  15691863  Female   46            41000          1\n",
       "396  15706071    Male   51            23000          1\n",
       "397  15654296  Female   50            20000          1\n",
       "398  15755018    Male   36            33000          0\n",
       "399  15594041  Female   49            36000          1"
      ]
     },
     "execution_count": 4,
     "metadata": {},
     "output_type": "execute_result"
    }
   ],
   "source": [
    "df.tail() #Checking the last 5 rows of the dataset"
   ]
  },
  {
   "cell_type": "code",
   "execution_count": 5,
   "metadata": {},
   "outputs": [
    {
     "name": "stdout",
     "output_type": "stream",
     "text": [
      "Number of rows is =  400  \n",
      "Number of columns is =  5\n"
     ]
    }
   ],
   "source": [
    " #Checking the number of rows and columns\n",
    "print(\"Number of rows is = \", df.shape[0], \" \\nNumber of columns is = \" , df.shape[1])"
   ]
  },
  {
   "cell_type": "code",
   "execution_count": 6,
   "metadata": {},
   "outputs": [
    {
     "data": {
      "text/plain": [
       "<bound method DataFrame.info of       User ID  Gender  Age  EstimatedSalary  Purchased\n",
       "0    15624510    Male   19            19000          0\n",
       "1    15810944    Male   35            20000          0\n",
       "2    15668575  Female   26            43000          0\n",
       "3    15603246  Female   27            57000          0\n",
       "4    15804002    Male   19            76000          0\n",
       "..        ...     ...  ...              ...        ...\n",
       "395  15691863  Female   46            41000          1\n",
       "396  15706071    Male   51            23000          1\n",
       "397  15654296  Female   50            20000          1\n",
       "398  15755018    Male   36            33000          0\n",
       "399  15594041  Female   49            36000          1\n",
       "\n",
       "[400 rows x 5 columns]>"
      ]
     },
     "execution_count": 6,
     "metadata": {},
     "output_type": "execute_result"
    }
   ],
   "source": [
    "df.info #Checking the overall information of the dataset"
   ]
  },
  {
   "cell_type": "code",
   "execution_count": 7,
   "metadata": {},
   "outputs": [
    {
     "data": {
      "text/plain": [
       "User ID             int64\n",
       "Gender             object\n",
       "Age                 int64\n",
       "EstimatedSalary     int64\n",
       "Purchased           int64\n",
       "dtype: object"
      ]
     },
     "execution_count": 7,
     "metadata": {},
     "output_type": "execute_result"
    }
   ],
   "source": [
    "df.dtypes #Checking the data types of the columns"
   ]
  },
  {
   "cell_type": "markdown",
   "metadata": {},
   "source": [
    "##### -> All columns numerical (=Integer), except 'Gender' (=Object)!"
   ]
  },
  {
   "cell_type": "code",
   "execution_count": 8,
   "metadata": {},
   "outputs": [
    {
     "data": {
      "text/html": [
       "<div>\n",
       "<style scoped>\n",
       "    .dataframe tbody tr th:only-of-type {\n",
       "        vertical-align: middle;\n",
       "    }\n",
       "\n",
       "    .dataframe tbody tr th {\n",
       "        vertical-align: top;\n",
       "    }\n",
       "\n",
       "    .dataframe thead th {\n",
       "        text-align: right;\n",
       "    }\n",
       "</style>\n",
       "<table border=\"1\" class=\"dataframe\">\n",
       "  <thead>\n",
       "    <tr style=\"text-align: right;\">\n",
       "      <th></th>\n",
       "      <th>User ID</th>\n",
       "      <th>Age</th>\n",
       "      <th>EstimatedSalary</th>\n",
       "      <th>Purchased</th>\n",
       "    </tr>\n",
       "  </thead>\n",
       "  <tbody>\n",
       "    <tr>\n",
       "      <th>count</th>\n",
       "      <td>4.000000e+02</td>\n",
       "      <td>400.000000</td>\n",
       "      <td>400.000000</td>\n",
       "      <td>400.000000</td>\n",
       "    </tr>\n",
       "    <tr>\n",
       "      <th>mean</th>\n",
       "      <td>1.569154e+07</td>\n",
       "      <td>37.655000</td>\n",
       "      <td>69742.500000</td>\n",
       "      <td>0.357500</td>\n",
       "    </tr>\n",
       "    <tr>\n",
       "      <th>std</th>\n",
       "      <td>7.165832e+04</td>\n",
       "      <td>10.482877</td>\n",
       "      <td>34096.960282</td>\n",
       "      <td>0.479864</td>\n",
       "    </tr>\n",
       "    <tr>\n",
       "      <th>min</th>\n",
       "      <td>1.556669e+07</td>\n",
       "      <td>18.000000</td>\n",
       "      <td>15000.000000</td>\n",
       "      <td>0.000000</td>\n",
       "    </tr>\n",
       "    <tr>\n",
       "      <th>25%</th>\n",
       "      <td>1.562676e+07</td>\n",
       "      <td>29.750000</td>\n",
       "      <td>43000.000000</td>\n",
       "      <td>0.000000</td>\n",
       "    </tr>\n",
       "    <tr>\n",
       "      <th>50%</th>\n",
       "      <td>1.569434e+07</td>\n",
       "      <td>37.000000</td>\n",
       "      <td>70000.000000</td>\n",
       "      <td>0.000000</td>\n",
       "    </tr>\n",
       "    <tr>\n",
       "      <th>75%</th>\n",
       "      <td>1.575036e+07</td>\n",
       "      <td>46.000000</td>\n",
       "      <td>88000.000000</td>\n",
       "      <td>1.000000</td>\n",
       "    </tr>\n",
       "    <tr>\n",
       "      <th>max</th>\n",
       "      <td>1.581524e+07</td>\n",
       "      <td>60.000000</td>\n",
       "      <td>150000.000000</td>\n",
       "      <td>1.000000</td>\n",
       "    </tr>\n",
       "  </tbody>\n",
       "</table>\n",
       "</div>"
      ],
      "text/plain": [
       "            User ID         Age  EstimatedSalary   Purchased\n",
       "count  4.000000e+02  400.000000       400.000000  400.000000\n",
       "mean   1.569154e+07   37.655000     69742.500000    0.357500\n",
       "std    7.165832e+04   10.482877     34096.960282    0.479864\n",
       "min    1.556669e+07   18.000000     15000.000000    0.000000\n",
       "25%    1.562676e+07   29.750000     43000.000000    0.000000\n",
       "50%    1.569434e+07   37.000000     70000.000000    0.000000\n",
       "75%    1.575036e+07   46.000000     88000.000000    1.000000\n",
       "max    1.581524e+07   60.000000    150000.000000    1.000000"
      ]
     },
     "execution_count": 8,
     "metadata": {},
     "output_type": "execute_result"
    }
   ],
   "source": [
    "df.describe() #Checking the statistical summary of the dataset for outlier detection"
   ]
  },
  {
   "cell_type": "markdown",
   "metadata": {},
   "source": [
    "#### -> No outliers!"
   ]
  },
  {
   "cell_type": "code",
   "execution_count": 9,
   "metadata": {},
   "outputs": [
    {
     "name": "stdout",
     "output_type": "stream",
     "text": [
      "User ID            0\n",
      "Gender             0\n",
      "Age                0\n",
      "EstimatedSalary    0\n",
      "Purchased          0\n",
      "dtype: int64\n"
     ]
    },
    {
     "data": {
      "image/png": "[encoded data removed]",
      "text/plain": [
       "<Figure size 2500x1000 with 2 Axes>"
      ]
     },
     "metadata": {},
     "output_type": "display_data"
    }
   ],
   "source": [
    "#Checking for missing values\n",
    "\n",
    "print(df.isnull().sum()) #Sum of missing values in each column\n",
    "\n",
    "msno.matrix(df) #Missing values show up as white lines in the plot\n",
    "plt.title('Missing Data Matrix') #Title of the plot\n",
    "plt.show() #Displaying the plot"
   ]
  },
  {
   "cell_type": "markdown",
   "metadata": {},
   "source": [
    "##### -> No missing values in the dataset!"
   ]
  },
  {
   "cell_type": "code",
   "execution_count": 10,
   "metadata": {},
   "outputs": [
    {
     "data": {
      "text/plain": [
       "0"
      ]
     },
     "execution_count": 10,
     "metadata": {},
     "output_type": "execute_result"
    }
   ],
   "source": [
    "#Checking for duplicate rows\n",
    "\n",
    "df.duplicated().sum() #Sum of duplicate rows"
   ]
  },
  {
   "cell_type": "markdown",
   "metadata": {},
   "source": [
    "##### -> No duplicates in the dataset!"
   ]
  },
  {
   "cell_type": "markdown",
   "metadata": {},
   "source": [
    "All in all the dataset consists of 400 rows and 5 columns. 'User ID', 'Age', Estimated Salary' and 'Purchased' are numerical columns. Only 'Gender' is an object-type which needs further checking later on (Step 5: Data preprocessing) becasue object-type values often cause problems when used in ML algorithms. Also the dataset doesn't have any missing values and even no duplicates. No modifications needed at that stage, the dataset itself is in a good status and nearly ready to bes processed. Like mentioned before, only the 'Gender' column could become a problem. If there were a lot of missing values or duplicates, cleaning would be necessary."
   ]
  },
  {
   "cell_type": "markdown",
   "metadata": {},
   "source": [
    "### 3. Step: Exploratory Data Analysis (EDA)"
   ]
  },
  {
   "cell_type": "code",
   "execution_count": 11,
   "metadata": {},
   "outputs": [
    {
     "data": {
      "image/png": "[encoded data removed]",
      "text/plain": [
       "<Figure size 640x480 with 1 Axes>"
      ]
     },
     "metadata": {},
     "output_type": "display_data"
    }
   ],
   "source": [
    "#Counting how many people purchased and how many didn't\n",
    "\n",
    "df['Purchased'].value_counts() #Count values in column 'Purchased'\n",
    "\n",
    "sns.set(style=\"darkgrid\")  # Set the plot style to darkgrid \n",
    "\n",
    "sns.countplot(x='Purchased', data=df) #Plotting the count of Purchased\n",
    "plt.title(\"Count of Purchased\") #Title of the plot\n",
    "plt.xlabel(\"Purchased\") #X-axis label\n",
    "plt.ylabel(\"Count\") #Y-axis label\n",
    "plt.show() #Displaying the plot"
   ]
  },
  {
   "cell_type": "markdown",
   "metadata": {},
   "source": [
    "#### -> 257 people did not  purchased, 143 people did purchase!\n",
    "That shows that the data is unbalanced which recommends balancing the data (e.g. by using oversampling techniques like SMOT). However I oversampled the data but the model got worse (instead of 10 predictions wrong, 13 wrong) so I put it out of the notebook again. (I put the SMOTE-import as comment)"
   ]
  },
  {
   "cell_type": "code",
   "execution_count": 12,
   "metadata": {},
   "outputs": [
    {
     "name": "stdout",
     "output_type": "stream",
     "text": [
      "The percentage of people who did not purchase is 64.25%\n",
      "The percentage of people who did  purchase is 35.75%\n"
     ]
    }
   ],
   "source": [
    "df_no = df['Purchased'].value_counts()[0] #Count the number of people who didn't purchase\n",
    "df_yes = df['Purchased'].value_counts()[1] #Count the number of people who purchased\n",
    "\n",
    "total_count = df['Purchased'].count() #Counting the total number of people\n",
    "\n",
    "#Calculating the percentage of people who did not purchase \n",
    "no_percentage = (df_no / total_count) * 100\n",
    "#Calculating the percentage of people who purchased \n",
    "yes_percentage= (df_yes / total_count) * 100 \n",
    "\n",
    " #Displaying the percentage of people who did not purchase\n",
    "print('The percentage of people who did not purchase is {:.2f}%'.format(no_percentage))\n",
    "#Displaying the percentage of people who purchased\n",
    "print('The percentage of people who did  purchase is {:.2f}%'.format(yes_percentage)) "
   ]
  },
  {
   "cell_type": "code",
   "execution_count": 13,
   "metadata": {},
   "outputs": [
    {
     "name": "stdout",
     "output_type": "stream",
     "text": [
      "The amount of people who did not purchase:\n",
      "Male      130\n",
      "Female    127\n",
      "Name: Gender, dtype: int64\n",
      "The amount of people who purchased:\n",
      "Female    77\n",
      "Male      66\n",
      "Name: Gender, dtype: int64\n",
      "The percentage of people who did not purchase:\n",
      "Male      32.50\n",
      "Female    31.75\n",
      "Name: Gender, dtype: float64\n",
      "The percentage of people who purchased:\n",
      "Female    19.25\n",
      "Male      16.50\n",
      "Name: Gender, dtype: float64\n"
     ]
    },
    {
     "data": {
      "image/png": "[encoded data removed]",
      "text/plain": [
       "<Figure size 640x480 with 1 Axes>"
      ]
     },
     "metadata": {},
     "output_type": "display_data"
    }
   ],
   "source": [
    "#I want to know the gender distribution of the people \n",
    "#who purchased and who didn't purchase\n",
    "\n",
    "df_no = df[df['Purchased'] == 0]  #Filtering for people who didn't purchase\n",
    "df_yes = df[df['Purchased'] == 1]  #Filtering for people who purchased\n",
    "\n",
    "#Counting the number of people who did not purchase by gender\n",
    "df_no_count = df_no['Gender'].value_counts() \n",
    "#Counting the number of people who purchased by gender\n",
    "df_yes_count = df_yes['Gender'].value_counts() \n",
    "\n",
    "total_count = df['Purchased'].count() #Counting the total number of people\n",
    " \n",
    "no_percentage = (df_no_count / total_count) * 100 \n",
    "yes_percentage = (df_yes_count / total_count) * 100\n",
    "\n",
    "#Displaying the amount of people who did not purchase by absolute numbers\n",
    "print('The amount of people who did not purchase:') \n",
    "print(df_no_count) \n",
    "#Displaying the amount of people who purchased by absolute numbers\n",
    "print('The amount of people who purchased:') \n",
    "print(df_yes_count) \n",
    "#Displaying the percentage of people who did not purchase by percentage\n",
    "print('The percentage of people who did not purchase:') \n",
    "print(no_percentage) \n",
    "#Displaying the percentage of people who purchased by percentage\n",
    "print('The percentage of people who purchased:') \n",
    "print(yes_percentage)\n",
    "\n",
    "sns.set(style=\"darkgrid\")  # Set the plot style to darkgrid\n",
    "\n",
    "#Plotting the count of Purchased by Gender\n",
    "sns.countplot(x='Purchased', hue='Gender', data=df) \n",
    "plt.title(\"Count of Purchased by Gender\") #Title of the plot\n",
    "plt.xlabel(\"Purchased\") #X-axis label\n",
    "plt.ylabel(\"Count\") #Y-axis label\n",
    "plt.legend(title='Gender') #Legend title\n",
    "plt.show() #Displaying the plot"
   ]
  },
  {
   "cell_type": "markdown",
   "metadata": {},
   "source": [
    "### 5. Step: Data preprocessing"
   ]
  },
  {
   "cell_type": "code",
   "execution_count": 14,
   "metadata": {},
   "outputs": [],
   "source": [
    "#Replacing 'gender' with dummy data\n",
    "\n",
    "\n",
    "gender = pd.get_dummies(df['Gender'], drop_first=True) #Converting gender into dummies\n",
    "\n",
    "df = pd.concat([gender, df], axis=1) #Adding dummy data to data set \n",
    "df.drop(columns=['Gender'], axis=1, inplace=True) #Remove gener column from dataset"
   ]
  },
  {
   "cell_type": "markdown",
   "metadata": {},
   "source": [
    "-> Gender is the only column with object-type values. For further processing and especially using the SVM-algorithm, these values will cause problems. I used the 'get_dummies' function from pandas to convert the object data into booleans (True = Male; False = Female). "
   ]
  },
  {
   "cell_type": "code",
   "execution_count": 15,
   "metadata": {},
   "outputs": [
    {
     "data": {
      "image/png": "[encoded data removed]",
      "text/plain": [
       "<Figure size 640x480 with 2 Axes>"
      ]
     },
     "metadata": {},
     "output_type": "display_data"
    }
   ],
   "source": [
    "#Checking the correlation of the features with the target variable\n",
    "\n",
    "correlation = pd.DataFrame(df.corr().Purchased) \n",
    "sns.heatmap(correlation, annot=True) #Plotting the correlation heatmap\n",
    "plt.title(\"Correlation of the features with the target variable\") #Title of the plot\n",
    "plt.show() #Displaying the plot"
   ]
  },
  {
   "cell_type": "markdown",
   "metadata": {},
   "source": [
    "-> 'Male' (former 'Gender') and 'User ID' have a very little correlation with our target value 'Purchased'. To use our algorithm the most effective way, I will drop both columns and only use 'Age' and 'Estimated Salary' for SVM."
   ]
  },
  {
   "cell_type": "code",
   "execution_count": 16,
   "metadata": {},
   "outputs": [],
   "source": [
    "#Dropping 'User ID'\n",
    "\n",
    "#Dropping the User ID column because it has no significance for our analysis/use of SVM\n",
    "df.drop(columns=['User ID'], axis=1, inplace=True) \n",
    "\n",
    "#Dropping the 'Male' (former 'Gender') column from dataset because it is redundant\n",
    "df.drop(columns=['Male'], axis=1, inplace=True) "
   ]
  },
  {
   "cell_type": "code",
   "execution_count": 17,
   "metadata": {},
   "outputs": [
    {
     "data": {
      "text/html": [
       "<div>\n",
       "<style scoped>\n",
       "    .dataframe tbody tr th:only-of-type {\n",
       "        vertical-align: middle;\n",
       "    }\n",
       "\n",
       "    .dataframe tbody tr th {\n",
       "        vertical-align: top;\n",
       "    }\n",
       "\n",
       "    .dataframe thead th {\n",
       "        text-align: right;\n",
       "    }\n",
       "</style>\n",
       "<table border=\"1\" class=\"dataframe\">\n",
       "  <thead>\n",
       "    <tr style=\"text-align: right;\">\n",
       "      <th></th>\n",
       "      <th>Age</th>\n",
       "      <th>EstimatedSalary</th>\n",
       "      <th>Purchased</th>\n",
       "    </tr>\n",
       "  </thead>\n",
       "  <tbody>\n",
       "    <tr>\n",
       "      <th>0</th>\n",
       "      <td>19</td>\n",
       "      <td>19000</td>\n",
       "      <td>0</td>\n",
       "    </tr>\n",
       "    <tr>\n",
       "      <th>1</th>\n",
       "      <td>35</td>\n",
       "      <td>20000</td>\n",
       "      <td>0</td>\n",
       "    </tr>\n",
       "    <tr>\n",
       "      <th>2</th>\n",
       "      <td>26</td>\n",
       "      <td>43000</td>\n",
       "      <td>0</td>\n",
       "    </tr>\n",
       "    <tr>\n",
       "      <th>3</th>\n",
       "      <td>27</td>\n",
       "      <td>57000</td>\n",
       "      <td>0</td>\n",
       "    </tr>\n",
       "    <tr>\n",
       "      <th>4</th>\n",
       "      <td>19</td>\n",
       "      <td>76000</td>\n",
       "      <td>0</td>\n",
       "    </tr>\n",
       "  </tbody>\n",
       "</table>\n",
       "</div>"
      ],
      "text/plain": [
       "   Age  EstimatedSalary  Purchased\n",
       "0   19            19000          0\n",
       "1   35            20000          0\n",
       "2   26            43000          0\n",
       "3   27            57000          0\n",
       "4   19            76000          0"
      ]
     },
     "execution_count": 17,
     "metadata": {},
     "output_type": "execute_result"
    }
   ],
   "source": [
    "df.head() #Checking the first 5 rows of the dataset"
   ]
  },
  {
   "cell_type": "markdown",
   "metadata": {},
   "source": [
    "-> 'User ID' and 'Male' (former 'Gender') got dropped."
   ]
  },
  {
   "cell_type": "markdown",
   "metadata": {},
   "source": [
    "### 6. Step: Feature selection and feature scaling"
   ]
  },
  {
   "cell_type": "code",
   "execution_count": 18,
   "metadata": {},
   "outputs": [],
   "source": [
    "#Set the independent variables and dependent variable \n",
    "\n",
    "X = df.iloc[:, :-1].values #Independent variables: Age and estimated salary\n",
    "Y = df.iloc[:, -1].values  #Dependent variable: Purchased "
   ]
  },
  {
   "cell_type": "code",
   "execution_count": 19,
   "metadata": {},
   "outputs": [
    {
     "data": {
      "text/plain": [
       "array([[-1.78179743, -1.49004624],\n",
       "       [-0.25358736, -1.46068138],\n",
       "       [-1.11320552, -0.78528968],\n",
       "       [-1.01769239, -0.37418169],\n",
       "       [-1.78179743,  0.18375059],\n",
       "       [-1.01769239, -0.34481683],\n",
       "       [-1.01769239,  0.41866944],\n",
       "       [-0.54012675,  2.35674998],\n",
       "       [-1.20871865, -1.07893824],\n",
       "       [-0.25358736, -0.13926283],\n",
       "       [-1.11320552,  0.30121002],\n",
       "       [-1.11320552, -0.52100597],\n",
       "       [-1.6862843 ,  0.47739916],\n",
       "       [-0.54012675, -1.51941109],\n",
       "       [-1.87731056,  0.35993973],\n",
       "       [-0.82666613,  0.30121002],\n",
       "       [ 0.89257019, -1.3138571 ],\n",
       "       [ 0.70154394, -1.28449224],\n",
       "       [ 0.79705706, -1.22576253],\n",
       "       [ 0.98808332, -1.19639767],\n",
       "       [ 0.70154394, -1.40195167],\n",
       "       [ 0.89257019, -0.60910054],\n",
       "       [ 0.98808332, -0.84401939],\n",
       "       [ 0.70154394, -1.40195167],\n",
       "       [ 0.79705706, -1.37258681],\n",
       "       [ 0.89257019, -1.46068138],\n",
       "       [ 1.08359645, -1.22576253],\n",
       "       [ 0.89257019, -1.16703281],\n",
       "       [-0.82666613, -0.78528968],\n",
       "       [-0.63563988, -1.51941109],\n",
       "       [-0.63563988,  0.12502088],\n",
       "       [-1.01769239,  1.97500684],\n",
       "       [-1.59077117, -1.5781408 ],\n",
       "       [-0.92217926, -0.75592482],\n",
       "       [-1.01769239,  0.59485858],\n",
       "       [-0.25358736, -1.25512738],\n",
       "       [-0.44461362, -1.22576253],\n",
       "       [-0.73115301, -0.60910054],\n",
       "       [-1.11320552,  0.06629116],\n",
       "       [-1.01769239, -1.13766796],\n",
       "       [-1.01769239, -1.54877595],\n",
       "       [-0.44461362, -0.55037082],\n",
       "       [-0.25358736,  1.123426  ],\n",
       "       [-0.73115301, -1.60750566],\n",
       "       [-0.92217926,  0.41866944],\n",
       "       [-1.39974491, -1.46068138],\n",
       "       [-1.20871865,  0.27184516],\n",
       "       [-1.01769239, -0.46227625],\n",
       "       [-0.73115301,  1.91627713],\n",
       "       [-0.63563988,  0.56549373],\n",
       "       [-1.30423178, -1.1083031 ],\n",
       "       [-1.87731056, -0.75592482],\n",
       "       [-0.82666613,  0.38930459],\n",
       "       [-0.25358736, -1.37258681],\n",
       "       [-1.01769239, -0.34481683],\n",
       "       [-1.30423178, -0.4329114 ],\n",
       "       [-1.39974491, -0.63846539],\n",
       "       [-0.92217926,  0.27184516],\n",
       "       [-1.49525804, -1.51941109],\n",
       "       [-0.54012675,  1.38770971],\n",
       "       [-1.01769239, -1.46068138],\n",
       "       [-1.20871865,  0.50676401],\n",
       "       [-1.39974491, -0.10989798],\n",
       "       [-0.54012675,  1.47580428],\n",
       "       [ 2.03872775,  0.38930459],\n",
       "       [-1.30423178, -0.34481683],\n",
       "       [-1.30423178, -1.49004624],\n",
       "       [-1.39974491,  0.35993973],\n",
       "       [-1.49525804, -0.19799255],\n",
       "       [-0.63563988, -0.05116826],\n",
       "       [-1.20871865,  0.30121002],\n",
       "       [-1.30423178, -1.25512738],\n",
       "       [-1.6862843 , -1.37258681],\n",
       "       [-0.44461362,  1.27025028],\n",
       "       [-0.54012675, -1.51941109],\n",
       "       [-0.34910049,  1.24088543],\n",
       "       [-1.87731056, -0.52100597],\n",
       "       [-1.49525804, -1.25512738],\n",
       "       [-0.92217926,  0.50676401],\n",
       "       [-1.11320552, -1.54877595],\n",
       "       [-0.73115301,  0.30121002],\n",
       "       [ 0.12846516, -0.81465453],\n",
       "       [-1.6862843 , -0.60910054],\n",
       "       [-0.25358736,  0.53612887],\n",
       "       [-0.73115301, -0.2273574 ],\n",
       "       [-0.63563988,  1.41707457],\n",
       "       [-1.30423178, -0.4329114 ],\n",
       "       [-0.92217926,  0.4480343 ],\n",
       "       [-1.11320552,  0.33057487],\n",
       "       [-0.25358736, -0.57973568],\n",
       "       [-1.49525804,  0.33057487],\n",
       "       [-0.73115301,  1.35834485],\n",
       "       [-1.11320552, -1.60750566],\n",
       "       [-0.82666613, -1.22576253],\n",
       "       [-0.82666613,  0.38930459],\n",
       "       [-0.25358736, -0.75592482],\n",
       "       [-0.25358736, -1.3138571 ],\n",
       "       [-0.92217926,  1.56389885],\n",
       "       [-0.25358736,  0.09565602],\n",
       "       [-0.92217926, -0.96147882],\n",
       "       [-1.01769239,  0.53612887],\n",
       "       [-0.92217926, -0.31545197],\n",
       "       [-0.54012675,  0.47739916],\n",
       "       [-0.44461362,  2.32738512],\n",
       "       [-1.78179743, -1.43131652],\n",
       "       [-1.59077117,  0.06629116],\n",
       "       [-1.11320552, -1.02020853],\n",
       "       [-1.01769239,  0.56549373],\n",
       "       [-1.11320552,  0.47739916],\n",
       "       [ 0.03295203,  0.30121002],\n",
       "       [ 0.12846516,  0.03692631],\n",
       "       [-0.0625611 ,  0.03692631],\n",
       "       [ 0.03295203, -0.25672226],\n",
       "       [-0.0625611 , -0.4329114 ],\n",
       "       [ 0.41500455,  0.30121002],\n",
       "       [ 0.22397829, -0.37418169],\n",
       "       [-0.25358736,  0.15438573],\n",
       "       [-0.15807423, -0.52100597],\n",
       "       [ 0.22397829, -0.31545197],\n",
       "       [ 0.31949142, -0.31545197],\n",
       "       [-0.15807423,  0.15438573],\n",
       "       [-0.0625611 ,  0.06629116],\n",
       "       [ 0.22397829,  0.15438573],\n",
       "       [-0.25358736, -0.49164111],\n",
       "       [ 0.31949142, -0.55037082],\n",
       "       [ 0.12846516, -0.25672226],\n",
       "       [ 0.41500455, -0.13926283],\n",
       "       [-1.11320552, -1.1083031 ],\n",
       "       [-0.73115301, -1.54877595],\n",
       "       [-1.11320552,  0.41866944],\n",
       "       [-0.63563988, -0.34481683],\n",
       "       [-0.44461362, -1.13766796],\n",
       "       [-0.73115301,  0.50676401],\n",
       "       [-1.59077117, -0.05116826],\n",
       "       [-0.92217926, -0.4329114 ],\n",
       "       [-1.39974491, -0.19799255],\n",
       "       [-1.6862843 ,  0.35993973],\n",
       "       [-0.73115301,  1.09406114],\n",
       "       [-0.92217926, -0.31545197],\n",
       "       [-1.78179743, -1.3138571 ],\n",
       "       [-1.78179743,  0.4480343 ],\n",
       "       [-1.87731056, -0.05116826],\n",
       "       [-0.25358736, -0.31545197],\n",
       "       [-0.73115301,  0.56549373],\n",
       "       [-0.34910049, -1.3138571 ],\n",
       "       [-1.30423178,  0.56549373],\n",
       "       [-1.01769239,  0.77104772],\n",
       "       [ 0.31949142, -1.16703281],\n",
       "       [-0.82666613, -0.25672226],\n",
       "       [-1.6862843 ,  0.12502088],\n",
       "       [-1.11320552, -1.60750566],\n",
       "       [ 0.31949142, -0.72655996],\n",
       "       [-0.63563988,  0.18375059],\n",
       "       [-0.15807423, -0.57973568],\n",
       "       [ 0.22397829, -0.66783025],\n",
       "       [-0.63563988, -1.60750566],\n",
       "       [ 0.79705706, -0.31545197],\n",
       "       [-0.82666613,  0.15438573],\n",
       "       [-1.11320552, -1.16703281],\n",
       "       [-0.54012675,  1.91627713],\n",
       "       [-0.54012675,  0.88850715],\n",
       "       [-1.20871865,  0.59485858],\n",
       "       [-0.0625611 , -1.07893824],\n",
       "       [-0.25358736, -0.93211396],\n",
       "       [-0.44461362, -0.02180341],\n",
       "       [-1.87731056,  0.47739916],\n",
       "       [-1.49525804, -0.4329114 ],\n",
       "       [-0.25358736,  0.03692631],\n",
       "       [-0.82666613,  2.29802026],\n",
       "       [-0.82666613, -0.66783025],\n",
       "       [-1.59077117,  0.53612887],\n",
       "       [-0.34910049,  1.32898   ],\n",
       "       [-1.11320552,  1.41707457],\n",
       "       [-0.34910049, -0.78528968],\n",
       "       [-0.34910049,  0.06629116],\n",
       "       [-1.39974491, -1.22576253],\n",
       "       [-0.25358736, -0.66783025],\n",
       "       [-1.20871865, -1.40195167],\n",
       "       [-1.30423178, -1.37258681],\n",
       "       [-0.63563988, -1.04957339],\n",
       "       [-1.11320552, -1.5781408 ],\n",
       "       [-0.63563988,  0.03692631],\n",
       "       [-0.54012675,  1.38770971],\n",
       "       [-0.44461362, -0.78528968],\n",
       "       [-0.44461362, -0.28608712],\n",
       "       [-0.63563988, -0.10989798],\n",
       "       [-1.6862843 ,  0.35993973],\n",
       "       [-0.44461362, -0.84401939],\n",
       "       [-0.25358736,  0.06629116],\n",
       "       [-0.92217926, -1.1083031 ],\n",
       "       [-1.30423178,  0.41866944],\n",
       "       [-1.78179743, -1.28449224],\n",
       "       [-0.82666613, -0.78528968],\n",
       "       [-1.78179743,  0.00756145],\n",
       "       [-0.92217926,  0.56549373],\n",
       "       [-0.34910049, -0.78528968],\n",
       "       [-0.73115301,  0.27184516],\n",
       "       [-1.6862843 , -0.99084367],\n",
       "       [-1.11320552,  0.30121002],\n",
       "       [-0.25358736, -1.40195167],\n",
       "       [-0.25358736, -0.9027491 ],\n",
       "       [ 1.08359645,  0.12502088],\n",
       "       [ 0.12846516,  1.88691227],\n",
       "       [ 0.31949142,  0.03692631],\n",
       "       [ 1.94321462,  0.917872  ],\n",
       "       [ 0.89257019, -0.66783025],\n",
       "       [ 1.65667523,  1.76945285],\n",
       "       [ 1.37013584,  1.29961514],\n",
       "       [ 0.22397829,  2.12183112],\n",
       "       [ 0.79705706, -1.40195167],\n",
       "       [ 0.98808332,  0.77104772],\n",
       "       [ 1.37013584,  2.35674998],\n",
       "       [ 2.03872775, -0.81465453],\n",
       "       [-0.25358736, -0.34481683],\n",
       "       [ 0.89257019, -0.78528968],\n",
       "       [ 2.13424088,  1.123426  ],\n",
       "       [ 1.08359645, -0.13926283],\n",
       "       [ 0.22397829,  0.2424803 ],\n",
       "       [ 0.79705706,  0.77104772],\n",
       "       [ 2.03872775,  2.15119598],\n",
       "       [ 0.31949142,  0.30121002],\n",
       "       [-0.25358736,  0.62422344],\n",
       "       [-0.0625611 ,  2.18056084],\n",
       "       [ 2.13424088,  0.94723686],\n",
       "       [-0.25358736, -0.28608712],\n",
       "       [-0.0625611 , -0.49164111],\n",
       "       [-0.15807423,  1.65199342],\n",
       "       [ 1.75218836,  1.85754742],\n",
       "       [ 0.22397829,  0.06629116],\n",
       "       [ 0.41500455,  0.30121002],\n",
       "       [-0.25358736,  2.26865541],\n",
       "       [ 0.12846516, -0.81465453],\n",
       "       [ 0.22397829,  1.09406114],\n",
       "       [ 1.08359645,  0.47739916],\n",
       "       [ 0.03295203,  1.24088543],\n",
       "       [ 0.79705706,  0.27184516],\n",
       "       [ 0.22397829, -0.37418169],\n",
       "       [-0.0625611 ,  0.30121002],\n",
       "       [ 0.79705706,  0.35993973],\n",
       "       [ 1.46564897,  2.15119598],\n",
       "       [ 0.41500455,  2.32738512],\n",
       "       [ 0.03295203, -0.31545197],\n",
       "       [ 1.17910958,  0.53612887],\n",
       "       [ 1.75218836,  1.00596657],\n",
       "       [ 0.31949142,  0.06629116],\n",
       "       [ 1.27462271,  2.23929055],\n",
       "       [-0.25358736, -0.57973568],\n",
       "       [ 1.84770149,  1.53453399],\n",
       "       [ 0.31949142, -0.52100597],\n",
       "       [-0.25358736,  0.80041258],\n",
       "       [ 0.60603081, -0.9027491 ],\n",
       "       [-0.0625611 , -0.52100597],\n",
       "       [ 0.98808332,  1.88691227],\n",
       "       [-0.0625611 ,  2.23929055],\n",
       "       [ 1.17910958, -0.75592482],\n",
       "       [ 1.37013584,  0.59485858],\n",
       "       [ 0.31949142,  0.06629116],\n",
       "       [ 0.22397829, -0.37418169],\n",
       "       [ 1.94321462,  0.74168287],\n",
       "       [ 0.70154394,  1.7988177 ],\n",
       "       [-0.25358736,  0.21311545],\n",
       "       [-0.15807423,  2.18056084],\n",
       "       [ 1.65667523,  1.62262856],\n",
       "       [-0.25358736,  0.06629116],\n",
       "       [ 0.98808332,  0.59485858],\n",
       "       [ 0.41500455,  1.123426  ],\n",
       "       [ 0.22397829,  0.15438573],\n",
       "       [-0.0625611 ,  0.12502088],\n",
       "       [ 0.89257019,  2.18056084],\n",
       "       [ 0.22397829, -0.25672226],\n",
       "       [ 0.51051768,  1.85754742],\n",
       "       [ 2.03872775,  0.18375059],\n",
       "       [ 2.13424088, -0.81465453],\n",
       "       [ 0.12846516,  1.06469629],\n",
       "       [ 1.84770149, -1.28449224],\n",
       "       [ 1.84770149,  0.12502088],\n",
       "       [ 0.03295203,  0.03692631],\n",
       "       [ 1.08359645,  0.53612887],\n",
       "       [ 1.37013584, -0.93211396],\n",
       "       [ 1.17910958, -0.99084367],\n",
       "       [ 2.03872775,  0.53612887],\n",
       "       [-0.25358736, -0.25672226],\n",
       "       [-0.0625611 ,  0.00756145],\n",
       "       [ 1.37013584, -1.43131652],\n",
       "       [ 0.98808332,  2.09246627],\n",
       "       [-0.0625611 ,  0.68295315],\n",
       "       [-0.0625611 , -0.2273574 ],\n",
       "       [ 0.98808332,  2.0043717 ],\n",
       "       [ 0.31949142,  0.27184516],\n",
       "       [-0.0625611 ,  0.2424803 ],\n",
       "       [ 0.12846516,  1.88691227],\n",
       "       [ 1.08359645,  0.56549373],\n",
       "       [ 1.65667523, -0.9027491 ],\n",
       "       [-0.0625611 ,  0.21311545],\n",
       "       [-0.25358736, -0.37418169],\n",
       "       [-0.15807423, -0.19799255],\n",
       "       [ 0.41500455,  0.09565602],\n",
       "       [ 0.51051768,  1.24088543],\n",
       "       [ 0.70154394,  0.27184516],\n",
       "       [ 0.79705706,  1.38770971],\n",
       "       [ 1.94321462, -0.93211396],\n",
       "       [ 0.98808332,  0.12502088],\n",
       "       [-0.0625611 ,  1.97500684],\n",
       "       [-0.0625611 ,  0.27184516],\n",
       "       [ 0.22397829, -0.28608712],\n",
       "       [ 0.41500455, -0.46227625],\n",
       "       [ 1.27462271,  1.88691227],\n",
       "       [ 0.89257019,  1.27025028],\n",
       "       [-0.15807423,  1.62262856],\n",
       "       [ 0.03295203, -0.57973568],\n",
       "       [ 0.41500455,  0.00756145],\n",
       "       [ 0.12846516,  0.77104772],\n",
       "       [ 0.03295203, -0.57973568],\n",
       "       [ 1.08359645,  2.09246627],\n",
       "       [ 0.12846516,  0.27184516],\n",
       "       [ 0.12846516,  0.15438573],\n",
       "       [ 1.5611621 ,  1.00596657],\n",
       "       [-0.25358736, -0.4329114 ],\n",
       "       [ 0.70154394, -1.1083031 ],\n",
       "       [-0.15807423, -0.28608712],\n",
       "       [ 1.37013584,  2.0043717 ],\n",
       "       [ 1.46564897,  0.35993973],\n",
       "       [ 0.31949142, -0.52100597],\n",
       "       [ 0.98808332, -1.16703281],\n",
       "       [ 0.98808332,  1.7988177 ],\n",
       "       [ 0.31949142, -0.28608712],\n",
       "       [ 0.31949142,  0.06629116],\n",
       "       [ 0.41500455,  0.15438573],\n",
       "       [-0.15807423,  1.41707457],\n",
       "       [ 0.89257019,  1.09406114],\n",
       "       [ 0.03295203, -0.55037082],\n",
       "       [ 0.98808332,  1.44643942],\n",
       "       [ 0.41500455, -0.13926283],\n",
       "       [ 0.22397829, -0.13926283],\n",
       "       [ 1.84770149, -0.28608712],\n",
       "       [-0.15807423, -0.46227625],\n",
       "       [ 1.94321462,  2.18056084],\n",
       "       [-0.25358736,  0.27184516],\n",
       "       [ 0.03295203, -0.4329114 ],\n",
       "       [ 0.12846516,  1.53453399],\n",
       "       [ 1.46564897,  1.00596657],\n",
       "       [-0.25358736,  0.15438573],\n",
       "       [ 0.03295203, -0.13926283],\n",
       "       [ 0.89257019, -0.55037082],\n",
       "       [ 0.89257019,  1.03533143],\n",
       "       [ 0.31949142, -0.19799255],\n",
       "       [ 1.46564897,  0.06629116],\n",
       "       [ 1.5611621 ,  1.123426  ],\n",
       "       [ 0.12846516,  0.21311545],\n",
       "       [ 0.03295203, -0.25672226],\n",
       "       [ 0.03295203,  1.27025028],\n",
       "       [-0.0625611 ,  0.15438573],\n",
       "       [ 0.41500455,  0.59485858],\n",
       "       [-0.0625611 , -0.37418169],\n",
       "       [-0.15807423,  0.85914229],\n",
       "       [ 2.13424088, -1.04957339],\n",
       "       [ 1.5611621 ,  0.00756145],\n",
       "       [ 0.31949142,  0.06629116],\n",
       "       [ 0.22397829,  0.03692631],\n",
       "       [ 0.41500455, -0.46227625],\n",
       "       [ 0.51051768,  1.74008799],\n",
       "       [ 1.46564897, -1.04957339],\n",
       "       [ 0.89257019, -0.57973568],\n",
       "       [ 0.41500455,  0.27184516],\n",
       "       [ 0.41500455,  1.00596657],\n",
       "       [ 2.03872775, -1.19639767],\n",
       "       [ 1.94321462, -0.66783025],\n",
       "       [ 0.79705706,  0.53612887],\n",
       "       [ 0.03295203,  0.03692631],\n",
       "       [ 1.5611621 , -1.28449224],\n",
       "       [ 2.13424088, -0.69719511],\n",
       "       [ 2.13424088,  0.38930459],\n",
       "       [ 0.12846516,  0.09565602],\n",
       "       [ 2.03872775,  1.76945285],\n",
       "       [-0.0625611 ,  0.30121002],\n",
       "       [ 0.79705706, -1.1083031 ],\n",
       "       [ 0.79705706,  0.12502088],\n",
       "       [ 0.41500455, -0.49164111],\n",
       "       [ 0.31949142,  0.50676401],\n",
       "       [ 1.94321462, -1.37258681],\n",
       "       [ 0.41500455, -0.16862769],\n",
       "       [ 0.98808332, -1.07893824],\n",
       "       [ 0.60603081,  2.03373655],\n",
       "       [ 1.08359645, -1.22576253],\n",
       "       [ 1.84770149, -1.07893824],\n",
       "       [ 1.75218836, -0.28608712],\n",
       "       [ 1.08359645, -0.9027491 ],\n",
       "       [ 0.12846516,  0.03692631],\n",
       "       [ 0.89257019, -1.04957339],\n",
       "       [ 0.98808332, -1.02020853],\n",
       "       [ 0.98808332, -1.07893824],\n",
       "       [ 0.89257019, -1.37258681],\n",
       "       [ 0.70154394, -0.72655996],\n",
       "       [ 2.13424088, -0.81465453],\n",
       "       [ 0.12846516, -0.31545197],\n",
       "       [ 0.79705706, -0.84401939],\n",
       "       [ 1.27462271, -1.37258681],\n",
       "       [ 1.17910958, -1.46068138],\n",
       "       [-0.15807423, -1.07893824],\n",
       "       [ 1.08359645, -0.99084367]])"
      ]
     },
     "execution_count": 19,
     "metadata": {},
     "output_type": "execute_result"
    }
   ],
   "source": [
    "#Applying feature scaling because the values of the independent variables \n",
    "#are not in the same range, which can lead to a bias in the model\n",
    "#By using StandardScaler, we try to get all the features to be on \n",
    "#the same scale to avoid bias\n",
    "\n",
    "sc_X = StandardScaler() #Feature scaling\n",
    "X = sc_X.fit_transform(X) #Fitting and transforming the data\n",
    "X #Checking the scaled data"
   ]
  },
  {
   "cell_type": "code",
   "execution_count": 20,
   "metadata": {},
   "outputs": [
    {
     "name": "stdout",
     "output_type": "stream",
     "text": [
      "Shape of X :  (400, 2)\n"
     ]
    }
   ],
   "source": [
    "print(\"Shape of X : \", X.shape) #Checking the shape of X"
   ]
  },
  {
   "cell_type": "code",
   "execution_count": 21,
   "metadata": {},
   "outputs": [
    {
     "name": "stdout",
     "output_type": "stream",
     "text": [
      "Shape of Y :  (400,)\n"
     ]
    }
   ],
   "source": [
    "print(\"Shape of Y : \", Y.shape) #Checking the shape of Y"
   ]
  },
  {
   "cell_type": "markdown",
   "metadata": {},
   "source": [
    "### 7. Step: Splitting the dataset into training and test data"
   ]
  },
  {
   "cell_type": "code",
   "execution_count": 22,
   "metadata": {},
   "outputs": [
    {
     "name": "stdout",
     "output_type": "stream",
     "text": [
      "Shape of X_Train :  (300, 2)\n",
      "Shape of X_Test :  (100, 2)\n",
      "Shape of Y_Train :  (300,)\n",
      "Shape of Y_Test :  (100,)\n"
     ]
    }
   ],
   "source": [
    "#Splitting the data into train and test sets, 25% of the data is used for testing\n",
    "\n",
    "X_Train, X_Test, Y_Train, Y_Test=train_test_split(X,Y,test_size=0.25,random_state=0) \n",
    "\n",
    "print(\"Shape of X_Train : \", X_Train.shape) #Checking the shape of X_Train\n",
    "print(\"Shape of X_Test : \", X_Test.shape) #Checking the shape of X_Test\n",
    "print(\"Shape of Y_Train : \", Y_Train.shape) #Checking the shape of Y_Train\n",
    "print(\"Shape of Y_Test : \", Y_Test.shape) #Checking the shape of Y_Test"
   ]
  },
  {
   "cell_type": "markdown",
   "metadata": {},
   "source": [
    "### 8. Step: USING SVM; Kernel = Linear, degree = 3"
   ]
  },
  {
   "cell_type": "code",
   "execution_count": 23,
   "metadata": {},
   "outputs": [
    {
     "data": {
      "text/plain": [
       "SVC(kernel='linear')"
      ]
     },
     "execution_count": 23,
     "metadata": {},
     "output_type": "execute_result"
    }
   ],
   "source": [
    "#First round of SVM\n",
    "\n",
    "#Fitting the classifier to the training data, using a linear kernel and a degree of 3\n",
    "classifier = SVC(kernel = 'linear', degree=3) \n",
    "classifier.fit(X_Train, Y_Train) #Fitting the classifier to the training data "
   ]
  },
  {
   "cell_type": "code",
   "execution_count": 24,
   "metadata": {},
   "outputs": [
    {
     "data": {
      "text/plain": [
       "array([0, 0, 0, 0, 0, 0, 0, 1, 0, 0, 0, 0, 0, 0, 0, 0, 0, 0, 1, 0, 0, 1,\n",
       "       0, 1, 0, 1, 0, 0, 0, 0, 0, 0, 1, 0, 0, 0, 0, 0, 0, 1, 0, 0, 0, 0,\n",
       "       1, 0, 0, 1, 0, 1, 1, 0, 0, 0, 1, 0, 0, 0, 0, 0, 0, 1, 0, 0, 0, 1,\n",
       "       0, 0, 0, 0, 1, 0, 0, 0, 0, 0, 1, 0, 1, 1, 1, 1, 0, 0, 1, 1, 0, 1,\n",
       "       0, 0, 0, 1, 0, 0, 0, 0, 0, 0, 1, 1], dtype=int64)"
      ]
     },
     "execution_count": 24,
     "metadata": {},
     "output_type": "execute_result"
    }
   ],
   "source": [
    "#Predicting the test set results\n",
    "\n",
    "Y_Predict = classifier.predict(X_Test) #Prediction based on the test set\n",
    "Y_Predict #Checking the test set"
   ]
  },
  {
   "cell_type": "code",
   "execution_count": 25,
   "metadata": {},
   "outputs": [
    {
     "name": "stdout",
     "output_type": "stream",
     "text": [
      "[[66  2]\n",
      " [ 8 24]]\n"
     ]
    }
   ],
   "source": [
    "#Generating the confusion matrix\n",
    "\n",
    "#Creating the confusion matrix for the model\n",
    "confusion_matrix = confusion_matrix(Y_Test, Y_Predict)\n",
    "print(confusion_matrix) #Printing the confusion matrix"
   ]
  },
  {
   "cell_type": "code",
   "execution_count": 26,
   "metadata": {},
   "outputs": [
    {
     "data": {
      "image/png": "[encoded data removed]",
      "text/plain": [
       "<Figure size 640x480 with 2 Axes>"
      ]
     },
     "metadata": {},
     "output_type": "display_data"
    }
   ],
   "source": [
    "#Visualising the confusin matrix\n",
    "\n",
    "sns.heatmap(confusion_matrix, \n",
    "            annot=True, fmt='d', \n",
    "            cmap='YlGnBu', \n",
    "            annot_kws={\"fontsize\": 12}) \n",
    "plt.title(\"Confusion Matrix, Kernel = Linear\") #Title of the plot\n",
    "plt.show() #Displaying the plot"
   ]
  },
  {
   "cell_type": "markdown",
   "metadata": {},
   "source": [
    "##### -> For 10 out of 100 the prediciton is wrong!\n",
    "\n",
    "##### True Positive (TP): 66, The model predicted the positive class correctly 66 times.\n",
    "##### False Negative (FN): 2, The model predicted the negative class incorrectly 2 times.\n",
    "##### False Positive (FP): 8, The model predicted the positive class incorrectly 8 times.\n",
    "##### True Negative (TN): 24, The model predicted the negative class correctly 24 times."
   ]
  },
  {
   "cell_type": "code",
   "execution_count": 27,
   "metadata": {},
   "outputs": [
    {
     "name": "stdout",
     "output_type": "stream",
     "text": [
      "              precision    recall  f1-score   support\n",
      "\n",
      "           0       0.89      0.97      0.93        68\n",
      "           1       0.92      0.75      0.83        32\n",
      "\n",
      "    accuracy                           0.90       100\n",
      "   macro avg       0.91      0.86      0.88       100\n",
      "weighted avg       0.90      0.90      0.90       100\n",
      "\n"
     ]
    }
   ],
   "source": [
    "#Classification report for evaluating the model\n",
    "\n",
    "print(classification_report(Y_Test,Y_Predict)) #Printing the classification report"
   ]
  },
  {
   "cell_type": "markdown",
   "metadata": {},
   "source": [
    "## TASK 3.1\n",
    "\n",
    "### Evaluation\n",
    "\n",
    "#### For class 0:\n",
    "\n",
    "Precision: Out of all the instances predicted as class 0, 89% were actually class 0.\n",
    "\n",
    "Recall: Out of all the instances that were actually class 0, 97% were correctly predicted as class 0.\n",
    "\n",
    "F1-score: The harmonic mean of precision and recall for class 0 is 93%.\n",
    "\n",
    "Support: There were 68 instances of class 0.\n",
    "\n",
    "\n",
    "#### For class 1:\n",
    "\n",
    "Precision: Out of all the instances predicted as class 1, 92% were actually class 1.\n",
    "\n",
    "Recall: Out of all the instances that were actually class 1, 75% were correctly predicted as class 1.\n",
    "\n",
    "F1-score: The harmonic mean of precision and recall for class 1 is 83%.\n",
    "\n",
    "Support: There were 32 instances of class 1.\n",
    "\n",
    "\n",
    "#### Overall Accuracy: \n",
    "The model achieved an accuracy of 90%, meaning that it correctly predicted the class for 90 out of 100 instances.\n",
    "\n",
    "#### Macro Avg: \n",
    "The macro average of precision, recall, and F1-score is calculated by taking the average across all classes. In this case, the macro average precision is 91%, recall is 86%, and F1-score is 88%.\n",
    "\n",
    "#### Weighted Avg: \n",
    "The weighted average of precision, recall, and F1-score is calculated by taking the weighted average based on the number of instances in each class. In this case, the weighted average precision is 90%, recall is 90%, and F1-score is 90%."
   ]
  },
  {
   "cell_type": "markdown",
   "metadata": {},
   "source": [
    "### 9. Step: Searching for the best SVM parameters"
   ]
  },
  {
   "cell_type": "code",
   "execution_count": 28,
   "metadata": {},
   "outputs": [
    {
     "name": "stdout",
     "output_type": "stream",
     "text": [
      "0.9099999999999999\n",
      "{'C': 1, 'gamma': 0.7, 'kernel': 'rbf'}\n"
     ]
    }
   ],
   "source": [
    "#Applying Grid Search to find the best model and the best parameters \n",
    "#(hyperparamater tuning)\n",
    "\n",
    "#Set parameters for grid search\n",
    "parameters = [{'C': [1, 10, 100, 1000], 'kernel': ['linear']}, \n",
    "              {'C': [1, 10, 100, 1000], 'kernel': ['rbf'], \n",
    "               'gamma': [0.1, 0.2, 0.3, 0.4, 0.5, 0.6, 0.7, 0.8, 0.9]}] \n",
    "\n",
    "\n",
    "grid_search = GridSearchCV(estimator = classifier, #estimator = classifier\n",
    "                           param_grid = parameters,  #parameters = parameters\n",
    "                           scoring = 'accuracy', #scoring = 'accuracy'\n",
    "                           cv = 10, #cv = 10\n",
    "                           n_jobs = -1) #n_jobs = -1\n",
    "\n",
    "#Fitting the grid search to the training data\n",
    "grid_search = grid_search.fit(X_Train, Y_Train) \n",
    "\n",
    "\n",
    "#getting the results\n",
    "best_accuracy = grid_search.best_score_ #Getting the best accuracy\n",
    "best_parameters = grid_search.best_params_ #Getting the best parameters\n",
    "\n",
    "print(best_accuracy) # Getting the best accuracy\n",
    "print(best_parameters) #Printing the best parameters"
   ]
  },
  {
   "cell_type": "markdown",
   "metadata": {},
   "source": [
    "Best Accuracy: 0.9099999999999999\n",
    "This represents the highest accuracy achieved among all the parameter combinations tested during the grid search. It indicates the performance of the model with the best set of hyperparameters.\n",
    "\n",
    "Best Parameters: {'C': 1, 'gamma': 0.7, 'kernel': 'rbf'}\n",
    "This dictionary specifies the hyperparameters that yielded the best accuracy. In this case, 'C' is set to 1, 'gamma' is set to 0.7, and the 'rbf' kernel is used. These hyperparameters were determined as the optimal combination during the grid search process."
   ]
  },
  {
   "cell_type": "markdown",
   "metadata": {},
   "source": [
    "### 10. Step: USING SVM with tuned hyperparameters (RBF kernel, C=1, gamma= 0,7)"
   ]
  },
  {
   "cell_type": "code",
   "execution_count": 29,
   "metadata": {},
   "outputs": [
    {
     "data": {
      "text/plain": [
       "SVC(C=1, gamma=0.7)"
      ]
     },
     "execution_count": 29,
     "metadata": {},
     "output_type": "execute_result"
    }
   ],
   "source": [
    "#Second round of SVM, testing the RBF-Kernel with tuned hyperparameters\n",
    "\n",
    "classifier = SVC(kernel = 'rbf', C = 1 ,gamma = 0.7) #Using the best parameters\n",
    "classifier.fit(X_Train, Y_Train) #Fitting the classifier to the training data "
   ]
  },
  {
   "cell_type": "code",
   "execution_count": 30,
   "metadata": {},
   "outputs": [
    {
     "data": {
      "text/plain": [
       "array([0, 0, 0, 0, 0, 0, 0, 1, 0, 1, 0, 0, 0, 0, 0, 1, 0, 0, 1, 0, 0, 1,\n",
       "       0, 1, 0, 1, 0, 0, 0, 0, 0, 0, 1, 0, 0, 0, 0, 0, 0, 1, 0, 0, 0, 0,\n",
       "       1, 0, 0, 1, 0, 1, 1, 0, 0, 1, 1, 1, 0, 0, 1, 0, 0, 1, 0, 1, 0, 1,\n",
       "       0, 0, 0, 0, 1, 0, 0, 1, 0, 0, 0, 0, 1, 1, 1, 1, 0, 0, 1, 0, 0, 1,\n",
       "       1, 0, 0, 1, 0, 0, 0, 0, 0, 1, 1, 1], dtype=int64)"
      ]
     },
     "execution_count": 30,
     "metadata": {},
     "output_type": "execute_result"
    }
   ],
   "source": [
    "#Predicting the test set results using the classifier with tuned hyperparameters\n",
    "\n",
    "Y_Predict = classifier.predict(X_Test) #Prediciton\n",
    "\n",
    "Y_Predict #Checking the test set"
   ]
  },
  {
   "cell_type": "code",
   "execution_count": 31,
   "metadata": {},
   "outputs": [
    {
     "name": "stdout",
     "output_type": "stream",
     "text": [
      "[[64  4]\n",
      " [ 3 29]]\n"
     ]
    }
   ],
   "source": [
    "#Generating the confusion matrix for the model with tuned hyperparameters\n",
    "\n",
    "#Importing the confusion matrix again because otherwise the code will not run because \n",
    "#of the previous confusion matrix\n",
    "from sklearn.metrics import confusion_matrix \n",
    "\n",
    "#Creating the confusion matrix for the model\n",
    "confusion_matrix = confusion_matrix(Y_Test, Y_Predict) \n",
    "print(confusion_matrix) #Printing the confusion matrix"
   ]
  },
  {
   "cell_type": "code",
   "execution_count": 32,
   "metadata": {},
   "outputs": [
    {
     "data": {
      "image/png": "[encoded data removed]",
      "text/plain": [
       "<Figure size 640x480 with 2 Axes>"
      ]
     },
     "metadata": {},
     "output_type": "display_data"
    }
   ],
   "source": [
    "#Plotting the confusion matrix for the model with tuned hyperparameters\n",
    "\n",
    "sns.heatmap(confusion_matrix, \n",
    "            annot=True, fmt='d', \n",
    "            cmap='YlGnBu', \n",
    "            annot_kws={\"fontsize\": 12}) \n",
    "plt.title(\"Confusion Matrix, Kernel = rbf\") #Title of the plot\n",
    "plt.show() #Displaying the plot"
   ]
  },
  {
   "cell_type": "markdown",
   "metadata": {},
   "source": [
    "##### -> Only for 7 out of 100 the prediciton is wrong! This shows the second SVM uisng different parameters works way better than the first one.\n",
    "\n",
    "##### True Positive (TP): 64, The model predicted the positive class correctly 64 times.\n",
    "##### False Negative (FN): 4, The model predicted the negative class incorrectly 4 times.\n",
    "##### False Positive (FP): 3, The model predicted the positive class incorrectly 3 times.\n",
    "##### True Negative (TN): 29, The model predicted the negative class correctly 29 times."
   ]
  },
  {
   "cell_type": "code",
   "execution_count": 33,
   "metadata": {},
   "outputs": [
    {
     "name": "stdout",
     "output_type": "stream",
     "text": [
      "              precision    recall  f1-score   support\n",
      "\n",
      "           0       0.96      0.94      0.95        68\n",
      "           1       0.88      0.91      0.89        32\n",
      "\n",
      "    accuracy                           0.93       100\n",
      "   macro avg       0.92      0.92      0.92       100\n",
      "weighted avg       0.93      0.93      0.93       100\n",
      "\n"
     ]
    }
   ],
   "source": [
    "#Classification report for evaluating the model with tuned hyperparameters\n",
    "\n",
    "print(classification_report(Y_Test,Y_Predict)) #Printing the classification report"
   ]
  },
  {
   "cell_type": "markdown",
   "metadata": {},
   "source": [
    "## Task 3.2\n",
    "\n",
    "### Evaluation\n",
    "\n",
    "#### For class 0:\n",
    "\n",
    "Precision: Out of all the instances predicted as class 0, 96% were actually class 0.\n",
    "\n",
    "Recall: Out of all the instances that were actually class 0, 94% were correctly predicted as class 0.\n",
    "\n",
    "F1-score: The harmonic mean of precision and recall for class 0 is 95%.\n",
    "\n",
    "Support: There were 68 instances of class 0.\n",
    "\n",
    "\n",
    "#### For class 1:\n",
    "\n",
    "Precision: Out of all the instances predicted as class 1, 88% were actually class 1.\n",
    "\n",
    "Recall: Out of all the instances that were actually class 1, 91% were correctly predicted as class 1.\n",
    "\n",
    "F1-score: The harmonic mean of precision and recall for class 1 is 89%.\n",
    "\n",
    "Support: There were 32 instances of class 1.\n",
    "\n",
    "\n",
    "#### Overall Accuracy: \n",
    "The model achieved an accuracy of 93%, meaning that it correctly predicted the class for 93 out of 100 instances.\n",
    "\n",
    "#### Macro Avg: \n",
    "The macro average of precision, recall, and F1-score is calculated by taking the average across all classes. In this case, the macro average precision is 92%, recall is 92%, and F1-score is 92%.\n",
    "\n",
    "#### Weighted Avg: \n",
    "The weighted average of precision, recall, and F1-score is calculated by taking the weighted average based on the number of instances in each class. In this case, the weighted average precision is 93%, recall is 93%, and F1-score is 93%."
   ]
  },
  {
   "cell_type": "markdown",
   "metadata": {},
   "source": [
    "### 11. Step: Visualisation"
   ]
  },
  {
   "cell_type": "code",
   "execution_count": 34,
   "metadata": {},
   "outputs": [
    {
     "name": "stderr",
     "output_type": "stream",
     "text": [
      "*c* argument looks like a single numeric RGB or RGBA sequence, which should be avoided as value-mapping will have precedence in case its length matches with *x* & *y*.  Please use the *color* keyword-argument or provide a 2D array with a single row if you intend to specify the same RGB or RGBA value for all points.\n",
      "*c* argument looks like a single numeric RGB or RGBA sequence, which should be avoided as value-mapping will have precedence in case its length matches with *x* & *y*.  Please use the *color* keyword-argument or provide a 2D array with a single row if you intend to specify the same RGB or RGBA value for all points.\n"
     ]
    },
    {
     "data": {
      "image/png": "[encoded data removed]",
      "text/plain": [
       "<Figure size 640x480 with 1 Axes>"
      ]
     },
     "metadata": {},
     "output_type": "display_data"
    }
   ],
   "source": [
    "#Visualising the training set results\n",
    "\n",
    "X_Set, Y_Set = X_Train, Y_Train # Prepare the data for visualization\n",
    "\n",
    "# Create a meshgrid with the min and max values with a resolution of 0.01\n",
    "X1,X2=np.meshgrid(np.arange\n",
    "                 (start=X_Set[:, 0].min() - 1, stop=X_Set[:, 0].max() + 1, step=0.01), \n",
    "                 np.arange\n",
    "                 (start=X_Set[:, 1].min() - 1, stop=X_Set[:, 1].max() + 1, step=0.01)) \n",
    "\n",
    "# Plot the decision boundary for the training set\n",
    "plt.contourf(X1,X2,classifier.predict(np.array\n",
    "                                      ([X1.ravel(),X2.ravel()]).T).reshape(X1.shape),\n",
    "             alpha=0.75, cmap=ListedColormap(('red', 'green'))) #Set color for regions\n",
    "\n",
    "#Set the limits of the x and y axes\n",
    "plt.xlim(X1.min(), X1.max()) #Set the limits of the x-axis\n",
    "plt.ylim(X2.min(), X2.max()) #Set the limits of the y-axis\n",
    "\n",
    "#Plot the points\n",
    "for i, j in enumerate(np.unique(Y_Set)): #Plot all the points of the training set\n",
    "    plt.scatter(X_Set[Y_Set == j, 0], X_Set[Y_Set == j, 1], #Plot training points\n",
    "                c=ListedColormap(('red', 'green'))(i), label=j) #Set colors\n",
    "\n",
    "plt.title('Support Vector Machine (Training Set)') #Set the title\n",
    "plt.xlabel('Age') #Set the x-axis label\n",
    "plt.ylabel('Estimated Salary') #Set the y-axis label\n",
    "plt.legend() #Set the legend\n",
    "\n",
    "#Display the plot\n",
    "plt.show()"
   ]
  },
  {
   "cell_type": "code",
   "execution_count": 35,
   "metadata": {},
   "outputs": [
    {
     "name": "stderr",
     "output_type": "stream",
     "text": [
      "*c* argument looks like a single numeric RGB or RGBA sequence, which should be avoided as value-mapping will have precedence in case its length matches with *x* & *y*.  Please use the *color* keyword-argument or provide a 2D array with a single row if you intend to specify the same RGB or RGBA value for all points.\n",
      "*c* argument looks like a single numeric RGB or RGBA sequence, which should be avoided as value-mapping will have precedence in case its length matches with *x* & *y*.  Please use the *color* keyword-argument or provide a 2D array with a single row if you intend to specify the same RGB or RGBA value for all points.\n"
     ]
    },
    {
     "data": {
      "image/png": "[encoded data removed]",
      "text/plain": [
       "<Figure size 640x480 with 1 Axes>"
      ]
     },
     "metadata": {},
     "output_type": "display_data"
    }
   ],
   "source": [
    "#Visualizing the Test Set Results\n",
    "\n",
    "X_Set, Y_Set = X_Test, Y_Test #Prepare the data for visualization\n",
    "\n",
    "#Create a meshgrid with the min and max values with a resolution of 0.01\n",
    "X1,X2=np.meshgrid(np.arange\n",
    "                 (start=X_Set[:, 0].min() - 1, stop=X_Set[:, 0].max() + 1, step=0.01), \n",
    "                 np.arange\n",
    "                 (start=X_Set[:, 1].min() - 1, stop=X_Set[:, 1].max() + 1, step=0.01))\n",
    "                     \n",
    "#Plot the decision boundary for the test set\n",
    "plt.contourf(X1,X2,classifier.predict\n",
    "             (np.array([X1.ravel(),X2.ravel()]).T).reshape(X1.shape), \n",
    "             alpha=0.75, cmap=ListedColormap(('red', 'green'))) #Set color for regions\n",
    "\n",
    "#Set the limits of the x and y axes\n",
    "plt.xlim(X1.min(), X1.max()) # Set the limits of the x-axis\n",
    "plt.ylim(X2.min(), X2.max()) # Set the limits of the y-axis\n",
    "\n",
    "#Plot the points\n",
    "for i, j in enumerate(np.unique(Y_Set)): #Plot all the points of the test set\n",
    "    plt.scatter(X_Set[Y_Set == j, 0], X_Set[Y_Set == j, 1], # Plot test points\n",
    "                c=ListedColormap(('red', 'green'))(i), label=j) #Set colors\n",
    " \n",
    "plt.title('Support Vector Machine (Test Set)') # Set the title\n",
    "plt.xlabel('Age') # Set the x-axis label\n",
    "plt.ylabel('Estimated Salary') # Set the y-axis label\n",
    "plt.legend() # Set the legend\n",
    "\n",
    "# Display the plot\n",
    "plt.show() "
   ]
  },
  {
   "cell_type": "markdown",
   "metadata": {},
   "source": [
    "### 12. Step Conclusion:"
   ]
  },
  {
   "cell_type": "markdown",
   "metadata": {},
   "source": [
    "##### First Model (Classification Report):\n",
    "\n",
    "In the first report, for class 0, the precision is 0.89, recall is 0.97, and F1-score is 0.93. This indicates that the model has a high precision and recall for predicting class 0.\n",
    "For class 1, the precision is 0.92, recall is 0.75, and F1-score is 0.83. This suggests that the model has a higher precision but lower recall for predicting class 1.\n",
    "The overall accuracy of the model is 90%. Overall that wasn't a bad model for the dataset.\n",
    "\n",
    "\n",
    "#### Second Model (Classification Report):\n",
    "\n",
    "In the second report, for class 0, the precision is 0.96, recall is 0.94, and F1-score is 0.95. These values indicate an improvement in precision, recall, and F1-score compared to the first report.\n",
    "For class 1, the precision is 0.88, recall is 0.91, and F1-score is 0.89. These values also show a slight improvement in precision and recall compared to the first report.\n",
    "The overall accuracy of the model is 93%, indicating an improvement in the model's performance compared to the first report.\n",
    "\n",
    "\n",
    "#### Overall Comparison:\n",
    "\n",
    "The second classification report demonstrates better performance in terms of precision, recall, F1-score, and accuracy compared to the first report.\n",
    "The model in the second report shows a higher precision for both classes and an improved overall accuracy, suggesting better predictive capability.\n",
    "These improvements indicate that the model's performance has been enhanced in predicting both classes correctly, particularly for class 1.\n",
    "In summary, the second classification report represents an improved model performance, achieving higher accuracy and better precision and recall for both classes compared to the first report. All in all the second model represents a good way to predict future customers. The accuracy of the model can be further improved by maximizing the size of the dataset, which is pretty small at the moment."
   ]
  }
 ],
 "metadata": {
  "kernelspec": {
   "display_name": "Python 3",
   "language": "python",
   "name": "python3"
  },
  "language_info": {
   "codemirror_mode": {
    "name": "ipython",
    "version": 3
   },
   "file_extension": ".py",
   "mimetype": "text/x-python",
   "name": "python",
   "nbconvert_exporter": "python",
   "pygments_lexer": "ipython3",
   "version": "3.9.13"
  }
 },
 "nbformat": 4,
 "nbformat_minor": 2
}
